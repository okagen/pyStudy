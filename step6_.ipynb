{
 "cells": [
  {
   "cell_type": "code",
   "execution_count": null,
   "metadata": {
    "collapsed": true
   },
   "outputs": [],
   "source": [
    "#  Pandas : データベースライブラリ\n",
    "import pandas_datareader.data as pdr\n",
    "\n",
    "# 数値計算を効率的に行うための拡張モジュール\n",
    "import numpy as np\n",
    "\n",
    "# period_1 : 戦後復興期 (19495/16 ～ 1954/11/30)\n",
    "# period_2 : 高度経済成長期 (19454/12/1 ～ 1971/12/31\n",
    "# period_3 : 安定期 (1972/1/1 ～ 1986/11/30)\n",
    "# period_4 : バブル経済期 (1986/12/1～1993/10/31)\n",
    "# period_5 : 経済変革期 (1993/11/1 ～ now)\n",
    "\n",
    "states=['period_1','period_2','period_3','period_4','period_5','period_6']\n",
    "dates=[\"1949/5/16\",\"1954/12/1\",\"1972/1/1\",\"1986/12/1\",\"1993/11/1\",\"2017/3/1\"]\n",
    "\n",
    "print ('\\n--- states ---')\n",
    "print(states)\n",
    "print ('\\n--- dates ---')\n",
    "print(dates)\n",
    "print ('\\n--- dates[0] ---')\n",
    "print(dates[0])\n",
    "print ('\\n--- dates[-1] ---')\n",
    "print(dates[-1])\n",
    "\n",
    "start = \"2000/1/1\"\n",
    "end = \"2017/1/31\"\n",
    "\n",
    "#  N225取得\n",
    "print ('\\n--- pdr.DataReader(\"NIKKEI225\", \\'fred\\', dates[0], dates[-1]) ---')\n",
    "n225 = pdr.DataReader(\"NIKKEI225\", 'fred', dates[0], dates[-1])\n",
    "print(n225.head(5))\n",
    "\n",
    "print ('\\n--- pdr.DataReader(\"NIKKEI225\", \\'fred\\', dates[0], dates[-1]).NIKKEI225 ---')\n",
    "print ('★ What is the difference if I add \".NIKKEI225\" or not?')\n",
    "n225 = pdr.DataReader(\"NIKKEI225\", 'fred', dates[0], dates[-1]).NIKKEI225\n",
    "print(n225.head(5))\n",
    "\n",
    "print ('\\n--- Rate of change ---')\n",
    "for i in range(len(dates)-1):\n",
    "    ave = n225[dates[i]:dates[i+1]].pct_change().mean()*250\n",
    "    print(states[i], ': %2.2f％;' %(ave*100))\n",
    "\n",
    "print ('\\n--- Volatility ---')\n",
    "for i in range(len(dates)-1):\n",
    "    vol = np.log(n225[dates[i]:dates[i+1]]).diff().std() * np.sqrt(250)\n",
    "    print(states[i], ': %2.2f％;' %(vol*100))\n",
    "\n"
   ]
  },
  {
   "cell_type": "code",
   "execution_count": null,
   "metadata": {
    "collapsed": true
   },
   "outputs": [],
   "source": []
  },
  {
   "cell_type": "code",
   "execution_count": null,
   "metadata": {
    "collapsed": true
   },
   "outputs": [],
   "source": []
  },
  {
   "cell_type": "code",
   "execution_count": null,
   "metadata": {
    "collapsed": true
   },
   "outputs": [],
   "source": []
  }
 ],
 "metadata": {
  "anaconda-cloud": {},
  "kernelspec": {
   "display_name": "Python [conda root]",
   "language": "python",
   "name": "conda-root-py"
  },
  "language_info": {
   "codemirror_mode": {
    "name": "ipython",
    "version": 3
   },
   "file_extension": ".py",
   "mimetype": "text/x-python",
   "name": "python",
   "nbconvert_exporter": "python",
   "pygments_lexer": "ipython3",
   "version": "3.5.2"
  }
 },
 "nbformat": 4,
 "nbformat_minor": 1
}
