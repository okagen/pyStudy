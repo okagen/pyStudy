{
 "cells": [
  {
   "cell_type": "code",
<<<<<<< HEAD
   "execution_count": 4,
=======
   "execution_count": 1,
>>>>>>> origin/master
   "metadata": {
    "collapsed": false
   },
   "outputs": [
    {
     "name": "stdout",
     "output_type": "stream",
     "text": [
      "\n",
      "--- states ---\n",
      "['period_1', 'period_2', 'period_3', 'period_4', 'period_5', 'period_6']\n",
      "\n",
      "--- dates ---\n",
      "['1949/5/16', '1954/12/1', '1972/1/1', '1986/12/1', '1993/11/1', '2017/3/1']\n",
      "\n",
      "--- dates[0] ---\n",
      "1949/5/16\n",
      "\n",
      "--- dates[-1] ---\n",
      "2017/3/1\n",
      "\n",
      "--- pdr.DataReader(\"NIKKEI225\", 'fred', dates[0], dates[-1]) ---\n",
      "            NIKKEI225\n",
      "DATE                 \n",
      "1949-05-16     176.21\n",
      "1949-05-17     174.80\n",
      "1949-05-18     172.53\n",
      "1949-05-19     171.34\n",
      "1949-05-20     169.20\n",
      "\n",
      "--- pdr.DataReader(\"NIKKEI225\", 'fred', dates[0], dates[-1]).NIKKEI225 ---\n",
      "★ What is the difference if I add \".NIKKEI225\" or not?\n",
      "DATE\n",
      "1949-05-16    176.21\n",
      "1949-05-17    174.80\n",
      "1949-05-18    172.53\n",
      "1949-05-19    171.34\n",
      "1949-05-20    169.20\n",
      "Name: NIKKEI225, dtype: float64\n",
      "\n",
      "--- Rate of change ---\n",
<<<<<<< HEAD
      "★ *250?\n",
      "戦後復興期 : 0.05％;\n",
      "高度経済成長期 : 0.05％;\n",
      "安定期 : 0.05％;\n",
      "バブル経済成長期 : 0.01％;\n",
      "経済変革期 : 0.01％;\n",
      "\n",
      "--- Volatility ---\n",
      "戦後復興期 : 22.99％;\n",
      "高度経済成長期 : 14.45％;\n",
      "安定期 : 12.64％;\n",
      "バブル経済成長期 : 22.82％;\n",
      "経済変革期 : 23.47％;\n"
=======
      "period_1 : 13.71％;\n",
      "period_2 : 13.47％;\n",
      "period_3 : 13.48％;\n",
      "period_4 : 3.49％;\n",
      "period_5 : 2.87％;\n",
      "\n",
      "--- Volatility ---\n",
      "period_1 : 22.99％;\n",
      "period_2 : 14.45％;\n",
      "period_3 : 12.64％;\n",
      "period_4 : 22.82％;\n",
      "period_5 : 23.47％;\n"
>>>>>>> origin/master
     ]
    }
   ],
   "source": [
    "#  Pandas : データベースライブラリ\n",
    "import pandas_datareader.data as pdr\n",
    "\n",
    "# 数値計算を効率的に行うための拡張モジュール\n",
    "import numpy as np\n",
    "\n",
    "# period_1 : 戦後復興期 (19495/16 ～ 1954/11/30)\n",
    "# period_2 : 高度経済成長期 (19454/12/1 ～ 1971/12/31\n",
    "# period_3 : 安定期 (1972/1/1 ～ 1986/11/30)\n",
    "# period_4 : バブル経済期 (1986/12/1～1993/10/31)\n",
    "# period_5 : 経済変革期 (1993/11/1 ～ now)\n",
    "\n",
    "states=['period_1','period_2','period_3','period_4','period_5','period_6']\n",
    "statesJ=['戦後復興期','高度経済成長期','安定期','バブル経済成長期','経済変革期']\n",
    "dates=[\"1949/5/16\",\"1954/12/1\",\"1972/1/1\",\"1986/12/1\",\"1993/11/1\",\"2017/3/1\"]\n",
    "\n",
    "print ('\\n--- states ---')\n",
    "print(states)\n",
    "print ('\\n--- dates ---')\n",
    "print(dates)\n",
    "print ('\\n--- dates[0] ---')\n",
    "print(dates[0])\n",
    "print ('\\n--- dates[-1] ---')\n",
    "print(dates[-1])\n",
    "\n",
    "start = \"2000/1/1\"\n",
    "end = \"2017/1/31\"\n",
    "\n",
    "#  N225取得\n",
    "print ('\\n--- pdr.DataReader(\"NIKKEI225\", \\'fred\\', dates[0], dates[-1]) ---')\n",
    "n225 = pdr.DataReader(\"NIKKEI225\", 'fred', dates[0], dates[-1])\n",
    "print(n225.head(5))\n",
    "\n",
    "print ('\\n--- pdr.DataReader(\"NIKKEI225\", \\'fred\\', dates[0], dates[-1]).NIKKEI225 ---')\n",
    "print ('★ What is the difference if I add \".NIKKEI225\" or not?')\n",
    "n225 = pdr.DataReader(\"NIKKEI225\", 'fred', dates[0], dates[-1]).NIKKEI225\n",
    "print(n225.head(5))\n",
    "\n",
    "print ('\\n--- Rate of change ---')\n",
    "print ('★ *250?')\n",
    "for i in range(len(dates)-1):\n",
    "    ave = n225[dates[i]:dates[i+1]].pct_change().mean()*250\n",
    "    print(statesJ[i], ': %2.2f％;' %(ave*100))\n",
    "\n",
    "print ('\\n--- Volatility ---')\n",
    "for i in range(len(dates)-1):\n",
    "    vol = np.log(n225[dates[i]:dates[i+1]]).diff().std() * np.sqrt(250)\n",
    "    print(statesJ[i], ': %2.2f％;' %(vol*100))\n",
    "\n"
   ]
  },
  {
   "cell_type": "code",
   "execution_count": null,
   "metadata": {
    "collapsed": true
   },
   "outputs": [],
   "source": []
  },
  {
   "cell_type": "code",
   "execution_count": null,
   "metadata": {
    "collapsed": true
   },
   "outputs": [],
   "source": []
  },
  {
   "cell_type": "code",
   "execution_count": null,
   "metadata": {
    "collapsed": true
   },
   "outputs": [],
   "source": []
  }
 ],
 "metadata": {
  "anaconda-cloud": {},
  "kernelspec": {
   "display_name": "Python [conda root]",
   "language": "python",
   "name": "conda-root-py"
  },
  "language_info": {
   "codemirror_mode": {
    "name": "ipython",
    "version": 3
   },
   "file_extension": ".py",
   "mimetype": "text/x-python",
   "name": "python",
   "nbconvert_exporter": "python",
   "pygments_lexer": "ipython3",
   "version": "3.5.2"
  }
 },
 "nbformat": 4,
 "nbformat_minor": 1
}
