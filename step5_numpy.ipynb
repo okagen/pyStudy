{
 "cells": [
  {
   "cell_type": "code",
   "execution_count": 17,
   "metadata": {
    "collapsed": false
   },
   "outputs": [
    {
     "name": "stdout",
     "output_type": "stream",
     "text": [
      "\n",
      "--- n225.Close.head(10) <Series> ---\n",
      "Date\n",
      "1984-01-04     9927.0\n",
      "1984-01-05     9947.0\n",
      "1984-01-06     9961.0\n",
      "1984-01-09     9954.0\n",
      "1984-01-10    10016.0\n",
      "Name: Close, dtype: float64\n",
      "\n",
      "--- np.log(n225.Close).head(5) <Series> ---\n",
      "Date\n",
      "1984-01-04    9.203014\n",
      "1984-01-05    9.205026\n",
      "1984-01-06    9.206433\n",
      "1984-01-09    9.205730\n",
      "1984-01-10    9.211939\n",
      "Name: Close, dtype: float64\n",
      "\n",
      "--- np.log(n225.Close).diff().head(5) <Series> ---\n",
      "Date\n",
      "1984-01-04         NaN\n",
      "1984-01-05    0.002013\n",
      "1984-01-06    0.001406\n",
      "1984-01-09   -0.000703\n",
      "1984-01-10    0.006209\n",
      "Name: Close, dtype: float64\n",
      "\n",
      "--- np.log(n225.Close).diff().std() <Value> ---\n",
      "0.014607132457739551\n",
      "\n",
      "--- np.log(n225.Close).diff().std()  * np.sqrt(250) <Value> ---\n",
      "0.230959043251\n"
     ]
    },
    {
     "data": {
      "text/plain": [
       "<matplotlib.axes._subplots.AxesSubplot at 0x961b780>"
      ]
     },
     "execution_count": 17,
     "metadata": {},
     "output_type": "execute_result"
    },
    {
     "data": {
      "image/png": "[encoded data removed]",
      "text/plain": [
       "<matplotlib.figure.Figure at 0x9387d30>"
      ]
     },
     "metadata": {},
     "output_type": "display_data"
    }
   ],
   "source": [
    "# 数値計算を効率的に行うための拡張モジュール numpy の勉強\n",
    "\n",
    "# 株価データ取得モジュール \n",
    "import pandas_datareader.data as pdr\n",
    "\n",
    "# 数値計算を効率的に行うための拡張モジュール\n",
    "import numpy as np\n",
    "\n",
    "start = \"1949/5/6\"\n",
    "end = \"2016/9/30\"\n",
    "\n",
    "# pandas_datareaderを使って、yahooからNIKKEI225のデータを読み込み <DataFrame>\n",
    "n225 = pdr.DataReader(\"^N225\", 'yahoo', start, end)\n",
    "print('\\n--- n225.Close.head(10) <Series> ---')\n",
    "print(n225.Close.head(5))\n",
    "\n",
    "# ヒストリカル・ボラティリティを計算\n",
    "# 価格の対数差分の標準偏差。\n",
    "\n",
    "# 終値の対数取得\n",
    "print('\\n--- np.log(n225.Close).head(5) <Series> ---')\n",
    "nplog = np.log(n225.Close)\n",
    "print(nplog.head(5))\n",
    "\n",
    "# 終値の対数の差分を取得\n",
    "print('\\n--- np.log(n225.Close).diff().head(5) <Series> ---')\n",
    "nplogdiff = np.log(n225.Close).diff()\n",
    "print(nplogdiff.head(5))\n",
    "\n",
    "# 終値の対数の差分の様準偏差　デイリーベース\n",
    "print('\\n--- np.log(n225.Close).diff().std() <Value> ---')\n",
    "nplogdiffstd = np.log(n225.Close).diff().std()\n",
    "print(nplogdiffstd)\n",
    "\n",
    "# 終値の対数の差分の様準偏差　デイリーベースを年率化する＝係数√250を掛ける（営業日が250日なため）\n",
    "print('\\n--- np.log(n225.Close).diff().std()  * np.sqrt(250) <Value> ---')\n",
    "nplogdiffstd = np.log(n225.Close).diff().std() * np.sqrt(250)\n",
    "print(nplogdiffstd)\n",
    "\n",
    "# Matplotlib : 描画ライブラリ\n",
    "%matplotlib inline\n",
    "import matplotlib.pyplot as plt\n",
    "\n",
    "# 終値の対数値と対数の差分をグラフ化\n",
    "nplog.plot(color=\"yellow\")\n",
    "nplogdiff.plot(color=\"blue\")\n"
   ]
  },
  {
   "cell_type": "code",
   "execution_count": null,
   "metadata": {
    "collapsed": true
   },
   "outputs": [],
   "source": []
  }
 ],
 "metadata": {
  "kernelspec": {
   "display_name": "Python [conda root]",
   "language": "python",
   "name": "conda-root-py"
  },
  "language_info": {
   "codemirror_mode": {
    "name": "ipython",
    "version": 3
   },
   "file_extension": ".py",
   "mimetype": "text/x-python",
   "name": "python",
   "nbconvert_exporter": "python",
   "pygments_lexer": "ipython3",
   "version": "3.5.2"
  }
 },
 "nbformat": 4,
 "nbformat_minor": 1
}
