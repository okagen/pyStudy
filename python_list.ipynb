{
 "cells": [
  {
   "cell_type": "code",
   "execution_count": 11,
   "metadata": {
    "collapsed": false
   },
   "outputs": [
    {
     "name": "stdout",
     "output_type": "stream",
     "text": [
      "\n",
      "--- data1 = [amp*sin(deg*pi/180) for deg in range(0,360,15)] ---\n",
      "[0.0, 2.5881904510252074, 4.999999999999999, 7.0710678118654755, 8.660254037844386, 9.659258262890683, 10.0, 9.659258262890683, 8.660254037844387, 7.0710678118654755, 4.999999999999999, 2.58819045102521, 1.2246467991473533e-15, -2.5881904510252034, -5.000000000000001, -7.071067811865475, -8.660254037844386, -9.659258262890683, -10.0, -9.659258262890681, -8.660254037844386, -7.071067811865477, -5.000000000000004, -2.588190451025207]\n",
      "\n",
      "--- data2 = [x/y for x,y in listlist if y> 0]　---\n",
      "[0.5, 0.75]\n"
     ]
    }
   ],
   "source": [
    "# リスト内包表記\n",
    "\n",
    "# サンプル１\n",
    "# リストの[]の中に、リストを生成するコードを書くことが出来る。\n",
    "\n",
    "from math import sin, pi\n",
    "amp = 10\n",
    "data1 = [amp*sin(deg*pi/180) for deg in range(0,360,15)]\n",
    "print('\\n--- data1 = [amp*sin(deg*pi/180) for deg in range(0,360,15)] ---')\n",
    "print(data1)\n",
    "\n",
    "# サンプル2\n",
    "listlist = [[1,2],[3,4],[3,0]]\n",
    "print('\\n--- data2 = [x/y for x,y in listlist if y> 0]　---')\n",
    "data2 = [x/y for x,y in listlist if y> 0]\n",
    "print(data2)"
   ]
  },
  {
   "cell_type": "code",
   "execution_count": 8,
   "metadata": {
    "collapsed": false
   },
   "outputs": [
    {
     "name": "stdout",
     "output_type": "stream",
     "text": [
      "\n",
      "--- use for n2 in range(0,3): ---\n",
      "[1, 2, 3]\n",
      "\n",
      "--- print(n2)---\n",
      "2\n",
      "\n",
      "--- list1 = [n1+1 for n1 in range(1,3)] ---\n",
      "[1, 2, 3]\n",
      "\n",
      "--- print(n1)---\n"
     ]
    },
    {
     "ename": "NameError",
     "evalue": "name 'n1' is not defined",
     "output_type": "error",
     "traceback": [
      "\u001b[0;31m---------------------------------------------------------------------------\u001b[0m",
      "\u001b[0;31mNameError\u001b[0m                                 Traceback (most recent call last)",
      "\u001b[0;32m<ipython-input-8-cacbd8b4638a>\u001b[0m in \u001b[0;36m<module>\u001b[0;34m()\u001b[0m\n\u001b[1;32m     15\u001b[0m \u001b[0mprint\u001b[0m\u001b[1;33m(\u001b[0m\u001b[0mlist1\u001b[0m\u001b[1;33m)\u001b[0m\u001b[1;33m\u001b[0m\u001b[0m\n\u001b[1;32m     16\u001b[0m \u001b[0mprint\u001b[0m\u001b[1;33m(\u001b[0m\u001b[1;34m'\\n--- print(n1)---'\u001b[0m\u001b[1;33m)\u001b[0m\u001b[1;33m\u001b[0m\u001b[0m\n\u001b[0;32m---> 17\u001b[0;31m \u001b[0mprint\u001b[0m\u001b[1;33m(\u001b[0m\u001b[0mn1\u001b[0m\u001b[1;33m)\u001b[0m\u001b[1;33m\u001b[0m\u001b[0m\n\u001b[0m",
      "\u001b[0;31mNameError\u001b[0m: name 'n1' is not defined"
     ]
    }
   ],
   "source": [
    "#従来コード\n",
    "#n2は残る。\n",
    "list2=[]\n",
    "for n2 in range(0,3):\n",
    "    list2.append(n2+1)\n",
    "print('\\n--- use for n2 in range(0,3): ---')\n",
    "print(list2)\n",
    "print('\\n--- print(n2)---')\n",
    "print(n2)\n",
    "\n",
    "#リスト内包表記\n",
    "#n1は後に残らない。\n",
    "list1 = [n1+1 for n1 in range(0,3)]\n",
    "print('\\n--- list1 = [n1+1 for n1 in range(1,3)] ---')\n",
    "print(list1)\n",
    "print('\\n--- print(n1)---')\n",
    "print(n1)\n"
   ]
  },
  {
   "cell_type": "code",
   "execution_count": 33,
   "metadata": {
    "collapsed": false
   },
   "outputs": [
    {
     "name": "stdout",
     "output_type": "stream",
     "text": [
      "[1, 'abc', [1, 2, 'aaa']]\n",
      "{'orange': 'みかん', 'apple': 'リンゴ'}\n",
      "みかん\n",
      "(1, 5, 3)\n",
      "{'def', 'abc'}\n"
     ]
    }
   ],
   "source": [
    "# リスト 配列\n",
    "list1=[1, \"abc\",[1,2,\"aaa\"]]\n",
    "print(list1)\n",
    "\n",
    "# 辞書　キーと値ペア\n",
    "dict1 = {\"apple\":\"リンゴ\", \"orange\":\"みかん\"}\n",
    "print (dict1)\n",
    "print(dict1[\"orange\"])\n",
    "\n",
    "# タプル　データが変更できない配列\n",
    "tuple1 = (1,2,3)\n",
    "# tuple1[1] = 5  # タプルは変更できないためエラーになる\n",
    "tuple1 = (tuple1[0],5,tuple1[2])#タプルの中身を入れ替える場合は作りかえる\n",
    "print(tuple1)\n",
    "\n",
    "# 集合　データの重複を許さない\n",
    "grp1 = {\"abc\",\"def\",\"abc\"} # abcが１つになる\n",
    "print(grp1)"
   ]
  },
  {
   "cell_type": "code",
   "execution_count": null,
   "metadata": {
    "collapsed": true
   },
   "outputs": [],
   "source": []
  },
  {
   "cell_type": "code",
   "execution_count": null,
   "metadata": {
    "collapsed": true
   },
   "outputs": [],
   "source": []
  }
 ],
 "metadata": {
  "anaconda-cloud": {},
  "kernelspec": {
   "display_name": "Python [conda root]",
   "language": "python",
   "name": "conda-root-py"
  },
  "language_info": {
   "codemirror_mode": {
    "name": "ipython",
    "version": 3
   },
   "file_extension": ".py",
   "mimetype": "text/x-python",
   "name": "python",
   "nbconvert_exporter": "python",
   "pygments_lexer": "ipython3",
   "version": "3.5.2"
  }
 },
 "nbformat": 4,
 "nbformat_minor": 1
}
