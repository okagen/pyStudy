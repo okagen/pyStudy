{
 "cells": [
  {
   "cell_type": "code",
   "execution_count": 2,
   "metadata": {
    "collapsed": false
   },
   "outputs": [
    {
     "name": "stdout",
     "output_type": "stream",
     "text": [
      "Please enter a number to divide into 3. :1\n",
      "エラー無\n",
      "The answer is : 3.0\n",
      "終了\n"
     ]
    }
   ],
   "source": [
    "# 例外処理の勉強\n",
    "try:\n",
    "    # コード記述ブロック\n",
    "    i = input(\"Please enter a number to divide into 3. :\")\n",
    "    sub = int(i)\n",
    "    ans = 3 / sub\n",
    "except ZeroDivisionError as e:\n",
    "    # 例外発生時の処理\n",
    "    print('エラーあり')\n",
    "    print(e)\n",
    "else:\n",
    "    # 例外が発生しなかった時の処理\n",
    "    print('エラー無')\n",
    "    print('The answer is : ' + str(ans))\n",
    "finally:\n",
    "    # 例外の有無に関係なく、最後に実行する処理\n",
    "    print('終了')"
   ]
  },
  {
   "cell_type": "code",
   "execution_count": null,
   "metadata": {
    "collapsed": true
   },
   "outputs": [],
   "source": []
  }
 ],
 "metadata": {
  "anaconda-cloud": {},
  "kernelspec": {
   "display_name": "Python [conda root]",
   "language": "python",
   "name": "conda-root-py"
  },
  "language_info": {
   "codemirror_mode": {
    "name": "ipython",
    "version": 3
   },
   "file_extension": ".py",
   "mimetype": "text/x-python",
   "name": "python",
   "nbconvert_exporter": "python",
   "pygments_lexer": "ipython3",
   "version": "3.5.2"
  }
 },
 "nbformat": 4,
 "nbformat_minor": 1
}
