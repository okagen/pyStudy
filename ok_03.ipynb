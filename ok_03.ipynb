{
 "cells": [
  {
   "cell_type": "code",
   "execution_count": 5,
   "metadata": {
    "collapsed": false
   },
   "outputs": [
    {
     "name": "stdout",
     "output_type": "stream",
     "text": [
      "--- ucd.head() ---\n",
      "            Open  High   Low  Close  Volume  Adj Close\n",
      "Date                                                  \n",
      "2017-05-12  2612  2623  2590   2623   10400       2623\n",
      "2017-05-15  2576  2629  2576   2606    9100       2606\n",
      "2017-05-16  2598  2625  2598   2624    8400       2624\n",
      "2017-05-17  2602  2611  2591   2607    8200       2607\n",
      "2017-05-18  2581  2593  2565   2580    8200       2580\n",
      "--- ucd_ahead7.head() ---\n",
      "            Open  High   Low  Close  Volume  Adj Close\n",
      "Date                                                  \n",
      "2017-05-19  2612  2623  2590   2623   10400       2623\n",
      "2017-05-22  2576  2629  2576   2606    9100       2606\n",
      "2017-05-23  2598  2625  2598   2624    8400       2624\n",
      "2017-05-24  2602  2611  2591   2607    8200       2607\n",
      "2017-05-25  2581  2593  2565   2580    8200       2580\n"
     ]
    }
   ],
   "source": [
    "# ---------------------------------------------\n",
    "# 日本の銘柄はpandas_datareaderで読み込めないので、スクレイピングのメソッドを作って読み込み。\n",
    "from ok_datareaderYahooJP import datareaderYahooJP\n",
    "import datetime\n",
    "\n",
    "# 過去2か月間のデータを取得\n",
    "from ok_datareaderYahooJP import datareaderYahooJP\n",
    "end = datetime.datetime.today()\n",
    "start = end - datetime.timedelta(days=60)\n",
    "start_x = end - datetime.timedelta(days=30)\n",
    "\n",
    "ucd = datareaderYahooJP(8057, start=start, end=end)\n",
    "print('--- ucd.head() ---')\n",
    "print(ucd.head())\n",
    "\n",
    "# ---------------------------------------------\n",
    "# 7日分日付を進める\n",
    "import copy\n",
    "\n",
    "# ucdのデータをdeapcopyする。\n",
    "ucd_ahead7 = copy.deepcopy(ucd)\n",
    "#print(ucd_ahead.head())\n",
    "\n",
    "# ucd_aheadはリストではなくDataFrame\n",
    "# マルチインデックスmultiindexをカラムcolumnに置きなおす。\n",
    "ucd_ahead7.reset_index(inplace=True)\n",
    "#print(ucd_ahead.head())\n",
    "\n",
    "# ucd_aheadのDate部分に7日分を足す（7日分日付を進める）\n",
    "import datetime\n",
    "ucd_ahead7[\"Date\"] = ucd_ahead7[\"Date\"] + datetime.timedelta(days=7)\n",
    "#print(ucd_ahead.head())\n",
    "\n",
    "# indexを設定する\n",
    "ucd_ahead7.set_index('Date', inplace=True)\n",
    "#print(ucd_ahead.head())\n",
    "\n",
    "print('--- ucd_ahead7.head() ---')\n",
    "print(ucd_ahead7.head())\n"
   ]
  },
  {
   "cell_type": "code",
   "execution_count": 15,
   "metadata": {
    "collapsed": false
   },
   "outputs": [
    {
     "name": "stdout",
     "output_type": "stream",
     "text": [
      "3421\n",
      "3543\n",
      "3688\n",
      "4503\n",
      "4974\n",
      "9887\n"
     ]
    }
   ],
   "source": [
    "import csv\n",
    "\n",
    "# ok_03_TOPIX.csvを読み込む\n",
    "with open('ok_03_TOPIX.csv', 'r') as tpx:\n",
    "    companyList = csv.reader(tpx)\n",
    "    header = next(companyList)  # ヘッダーを読み飛ばす\n",
    "    for row in companyList:\n",
    "        print (row[0])          # codeを取得\n",
    "        \n",
    "        "
   ]
  },
  {
   "cell_type": "code",
   "execution_count": 16,
   "metadata": {
    "collapsed": false
   },
   "outputs": [
    {
     "ename": "ValueError",
     "evalue": "I/O operation on closed file.",
     "output_type": "error",
     "traceback": [
      "\u001b[0;31m---------------------------------------------------------------------------\u001b[0m",
      "\u001b[0;31mValueError\u001b[0m                                Traceback (most recent call last)",
      "\u001b[0;32m<ipython-input-16-f008484b23c1>\u001b[0m in \u001b[0;36m<module>\u001b[0;34m()\u001b[0m\n\u001b[0;32m----> 1\u001b[0;31m \u001b[1;32mfor\u001b[0m \u001b[0mrow\u001b[0m \u001b[1;32min\u001b[0m \u001b[0mcompanyList\u001b[0m\u001b[1;33m:\u001b[0m\u001b[1;33m\u001b[0m\u001b[0m\n\u001b[0m\u001b[1;32m      2\u001b[0m     \u001b[0mprint\u001b[0m \u001b[1;33m(\u001b[0m\u001b[0mrow\u001b[0m\u001b[1;33m[\u001b[0m\u001b[1;36m0\u001b[0m\u001b[1;33m]\u001b[0m\u001b[1;33m)\u001b[0m\u001b[1;33m\u001b[0m\u001b[0m\n",
      "\u001b[0;31mValueError\u001b[0m: I/O operation on closed file."
     ]
    }
   ],
   "source": [
    "for row in companyList:\n",
    "    print (row[0])   "
   ]
  },
  {
   "cell_type": "code",
   "execution_count": null,
   "metadata": {
    "collapsed": true
   },
   "outputs": [],
   "source": []
  }
 ],
 "metadata": {
  "kernelspec": {
   "display_name": "Python [conda root]",
   "language": "python",
   "name": "conda-root-py"
  },
  "language_info": {
   "codemirror_mode": {
    "name": "ipython",
    "version": 3
   },
   "file_extension": ".py",
   "mimetype": "text/x-python",
   "name": "python",
   "nbconvert_exporter": "python",
   "pygments_lexer": "ipython3",
   "version": "3.5.2"
  }
 },
 "nbformat": 4,
 "nbformat_minor": 1
}
