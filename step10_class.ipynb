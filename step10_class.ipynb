{
 "cells": [
  {
   "cell_type": "code",
   "execution_count": 20,
   "metadata": {
    "collapsed": false
   },
   "outputs": [
    {
     "name": "stdout",
     "output_type": "stream",
     "text": [
      "-----\n",
      "Person.name1 : hide\n",
      "Person.name2 : hiro\n",
      "Okamoto.name1 : hide\n",
      "Okamoto.name2 : hiro\n",
      "Okamoto.name5 : OKA\n",
      "Okamoto.name6 : MOTO hide\n",
      "---- __str__   print(Okamoto)---\n",
      "MOTO hide\n",
      "---- __str__   print(Okamoto2)---\n",
      "MOTO2 hide\n",
      "---- __add__ ---\n"
     ]
    },
    {
     "ename": "TypeError",
     "evalue": "Can't convert 'Person' object to str implicitly",
     "output_type": "error",
     "traceback": [
      "\u001b[0;31m---------------------------------------------------------------------------\u001b[0m",
      "\u001b[0;31mTypeError\u001b[0m                                 Traceback (most recent call last)",
      "\u001b[0;32m<ipython-input-20-afc54783a79f>\u001b[0m in \u001b[0;36m<module>\u001b[0;34m()\u001b[0m\n\u001b[1;32m     46\u001b[0m \u001b[1;31m# add。\u001b[0m\u001b[1;33m\u001b[0m\u001b[1;33m\u001b[0m\u001b[0m\n\u001b[1;32m     47\u001b[0m \u001b[0mprint\u001b[0m\u001b[1;33m(\u001b[0m\u001b[1;34m'---- __add__ ---'\u001b[0m\u001b[1;33m)\u001b[0m\u001b[1;33m\u001b[0m\u001b[0m\n\u001b[0;32m---> 48\u001b[0;31m \u001b[0mprint\u001b[0m\u001b[1;33m(\u001b[0m\u001b[0mOkamoto\u001b[0m \u001b[1;33m+\u001b[0m \u001b[0mOkamoto2\u001b[0m\u001b[1;33m)\u001b[0m\u001b[1;33m\u001b[0m\u001b[0m\n\u001b[0m\u001b[1;32m     49\u001b[0m \u001b[1;33m\u001b[0m\u001b[0m\n\u001b[1;32m     50\u001b[0m \u001b[1;31m# person.greeting2()は×、okamoto.greeting1()も×\u001b[0m\u001b[1;33m\u001b[0m\u001b[1;33m\u001b[0m\u001b[0m\n",
      "\u001b[0;32m<ipython-input-20-afc54783a79f>\u001b[0m in \u001b[0;36m__add__\u001b[0;34m(self, addstr)\u001b[0m\n\u001b[1;32m     22\u001b[0m     \u001b[1;31m# addで\u001b[0m\u001b[1;33m\u001b[0m\u001b[1;33m\u001b[0m\u001b[0m\n\u001b[1;32m     23\u001b[0m     \u001b[1;32mdef\u001b[0m \u001b[0m__add__\u001b[0m\u001b[1;33m(\u001b[0m\u001b[0mself\u001b[0m\u001b[1;33m,\u001b[0m \u001b[0maddstr\u001b[0m\u001b[1;33m)\u001b[0m\u001b[1;33m:\u001b[0m\u001b[1;33m\u001b[0m\u001b[0m\n\u001b[0;32m---> 24\u001b[0;31m         \u001b[1;32mreturn\u001b[0m \u001b[0mself\u001b[0m\u001b[1;33m.\u001b[0m\u001b[0mname6\u001b[0m \u001b[1;33m+\u001b[0m \u001b[0maddstr\u001b[0m \u001b[1;33m+\u001b[0m \u001b[1;34m\"<--added\"\u001b[0m\u001b[1;33m\u001b[0m\u001b[0m\n\u001b[0m\u001b[1;32m     25\u001b[0m \u001b[1;33m\u001b[0m\u001b[0m\n\u001b[1;32m     26\u001b[0m     \u001b[1;32mdef\u001b[0m \u001b[0mgreeting2\u001b[0m\u001b[1;33m(\u001b[0m\u001b[0mself\u001b[0m\u001b[1;33m)\u001b[0m\u001b[1;33m:\u001b[0m\u001b[1;33m\u001b[0m\u001b[0m\n",
      "\u001b[0;31mTypeError\u001b[0m: Can't convert 'Person' object to str implicitly"
     ]
    }
   ],
   "source": [
    "# class定義の練習\n",
    "class Person:\n",
    "    # 変数定義\n",
    "    name1 = 'hide'\n",
    "    name2 = 'hiro'\n",
    "    \n",
    "    # クラスそのものをオブジェクトとして使う場合は self 引数はつけない\n",
    "    def greeting1():\n",
    "        print('hello! greeting1')\n",
    "\n",
    "    #クラスの中で定義する インスタンス・メソッド (instance method)では、必ず第一引数に self を書く。\n",
    "    #第一引数に self と書くが、呼び出し時には 第二引数以降を渡す。selfには「インスタンス自身」が自動的入る仕様。\n",
    "        \n",
    "    # クラスからインスタンスを作る場合 self 引数を付ける。\n",
    "    # このことにより、インスタンスの変数に値がバインドされる。\n",
    "    # コンストラクタ\n",
    "    def __init__(self, name3, name4):\n",
    "        self.name5 = name3\n",
    "        self.name6 = name4 + \" \" + Person.name1 \n",
    "    \n",
    "    # print関数で表示する値を設定\n",
    "    def __str__(self):\n",
    "        return self.name6\n",
    "\n",
    "    # addで\n",
    "    def __add__(self, addstr):\n",
    "        return self.name6 + addstr + \"<--added\"\n",
    "    \n",
    "    def greeting2(self):\n",
    "        print('hello! greeting2')\n",
    "\n",
    "        \n",
    "# クラスの中で定義する クラス・メソッド (class method)。\n",
    "# デコレーターの @classmedhod に続いてメソッドを定義し、第一引数に cls を書く。      \n",
    "# インスタンス・メソッドと同じ呼び出し方、 cls には「クラス自身が入る」ところが違う点。\n",
    "\n",
    "# スタティック・メソッド (static method) 。\n",
    "# 第一引数に特別なものがはいらないので、ただの関数と同じ。\n",
    "        \n",
    "        \n",
    "        \n",
    "        \n",
    "# Personクラスのインスタンスを作成\n",
    "print('-----')\n",
    "Okamoto = Person('OKA','MOTO')\n",
    "print('Person.name1 : ' + Person.name1)        \n",
    "print('Person.name2 : ' + Person.name2)   \n",
    "print('Okamoto.name1 : ' + Okamoto.name1)        \n",
    "print('Okamoto.name2 : ' + Okamoto.name2)        \n",
    "print('Okamoto.name5 : ' + Okamoto.name5)\n",
    "print('Okamoto.name6 : ' + Okamoto.name6)\n",
    "\n",
    "# print関数で表示すると、__str__で接待した値が返される。\n",
    "print('---- __str__   print(Okamoto)---')\n",
    "print(Okamoto)\n",
    "print('---- __str__   print(Okamoto2)---')\n",
    "Okamoto2 = Person('OKA2','MOTO2')\n",
    "print(Okamoto2)\n",
    "\n",
    "# add。\n",
    "print('---- __add__ ---')\n",
    "print(Okamoto + Okamoto2)\n",
    "\n",
    "# person.greeting2()は×、okamoto.greeting1()も×\n",
    "print('-----')\n",
    "Person.greeting1()\n",
    "Okamoto.greeting2()"
   ]
  },
  {
   "cell_type": "code",
   "execution_count": 4,
   "metadata": {
    "collapsed": false
   },
   "outputs": [
    {
     "name": "stdout",
     "output_type": "stream",
     "text": [
      "Okagen.name5 : OKA\n",
      "Okagen.name6 : GEN hide\n",
      "hello! greeting2\n",
      "hi, greeting3\n"
     ]
    }
   ],
   "source": [
    "# Personクラスをスーパークラスとして、サブクラスを作成\n",
    "class Okagen(Person):\n",
    "    def __init__(self, name11, name12):\n",
    "        super().__init__(name11, name12)\n",
    "        \n",
    "    def greeting3(self):\n",
    "        print('hi, greeting3')\n",
    "\n",
    "# スーパークラスの変数とメソッドが継承されている事を確認\n",
    "Okagen = Okagen('OKA','GEN')\n",
    "print('Okagen.name5 : ' + Okagen.name5)\n",
    "print('Okagen.name6 : ' + Okagen.name6)\n",
    "\n",
    "# Okagen.greeting1()は×\n",
    "Okagen.greeting2()\n",
    "Okagen.greeting3()\n",
    "    "
   ]
  },
  {
   "cell_type": "code",
   "execution_count": null,
   "metadata": {
    "collapsed": true
   },
   "outputs": [],
   "source": []
  }
 ],
 "metadata": {
  "anaconda-cloud": {},
  "kernelspec": {
   "display_name": "Python [conda root]",
   "language": "python",
   "name": "conda-root-py"
  },
  "language_info": {
   "codemirror_mode": {
    "name": "ipython",
    "version": 3
   },
   "file_extension": ".py",
   "mimetype": "text/x-python",
   "name": "python",
   "nbconvert_exporter": "python",
   "pygments_lexer": "ipython3",
   "version": "3.5.2"
  }
 },
 "nbformat": 4,
 "nbformat_minor": 1
}
