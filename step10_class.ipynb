{
 "cells": [
  {
   "cell_type": "code",
   "execution_count": 11,
   "metadata": {
    "collapsed": false
   },
   "outputs": [
    {
     "name": "stdout",
     "output_type": "stream",
     "text": [
      "Person.name1 : hide\n",
      "Person.name2 : hiro\n",
      "Okamoto.name1 : hide\n",
      "Okamoto.name2 : hiro\n",
      "Okamoto.name5 : OKA\n",
      "Okamoto.name6 : MOTO hide\n",
      "hello! greeting1\n",
      "hello! greeting2\n"
     ]
    }
   ],
   "source": [
    "# class定義の練習\n",
    "class Person:\n",
    "    # 変数定義\n",
    "    name1 = 'hide'\n",
    "    name2 = 'hiro'\n",
    "    # クラスそのものをオブジェクトとして使う場合は self 引数はつけない\n",
    "    def greeting1():\n",
    "        print('hello! greeting1')\n",
    "\n",
    "    # クラスからインスタンスを作る場合 self 引数を付ける。\n",
    "    # このことにより、インスタンスの変数に値がバインドされる。\n",
    "    # コンストラクタ\n",
    "    def __init__(self,name3, name4):\n",
    "        self.name5 = name3\n",
    "        self.name6 = name4 + \" \" + person.name1 \n",
    "\n",
    "    def greeting2(self):\n",
    "        print('hello! greeting2')\n",
    "\n",
    "# Personクラスのインスタンスを作成\n",
    "Okamoto = Person('OKA','MOTO')\n",
    "print('Person.name1 : ' + Person.name1)        \n",
    "print('Person.name2 : ' + Person.name2)        \n",
    "print('Okamoto.name1 : ' + Okamoto.name1)        \n",
    "print('Okamoto.name2 : ' + Okamoto.name2)        \n",
    "print('Okamoto.name5 : ' + Okamoto.name5)\n",
    "print('Okamoto.name6 : ' + Okamoto.name6)\n",
    "\n",
    "# person.greeting2()は×、okamoto.greeting1()も×\n",
    "Person.greeting1()\n",
    "Okamoto.greeting2()"
   ]
  },
  {
   "cell_type": "code",
   "execution_count": 19,
   "metadata": {
    "collapsed": false
   },
   "outputs": [
    {
     "name": "stdout",
     "output_type": "stream",
     "text": [
      "Okagen.name5 : OKA\n",
      "Okagen.name6 : GEN hide\n",
      "hello! greeting2\n",
      "hi, greeting3\n"
     ]
    }
   ],
   "source": [
    "# Personクラスをスーパークラスとして、サブクラスを作成\n",
    "class Okagen(Person):\n",
    "    def __init__(self, name11, name12):\n",
    "        super().__init__(name11, name12)\n",
    "    def greeting3(self):\n",
    "        print('hi, greeting3')\n",
    "\n",
    "# スーパークラスの変数とメソッドが継承されている事を確認\n",
    "Okagen = Okagen('OKA','GEN')\n",
    "print('Okagen.name5 : ' + Okagen.name5)\n",
    "print('Okagen.name6 : ' + Okagen.name6)\n",
    "\n",
    "# Okagen.greeting1()は×\n",
    "Okagen.greeting2()\n",
    "Okagen.greeting3()\n",
    "    "
   ]
  },
  {
   "cell_type": "code",
   "execution_count": null,
   "metadata": {
    "collapsed": true
   },
   "outputs": [],
   "source": []
  }
 ],
 "metadata": {
  "anaconda-cloud": {},
  "kernelspec": {
   "display_name": "Python [conda root]",
   "language": "python",
   "name": "conda-root-py"
  },
  "language_info": {
   "codemirror_mode": {
    "name": "ipython",
    "version": 3
   },
   "file_extension": ".py",
   "mimetype": "text/x-python",
   "name": "python",
   "nbconvert_exporter": "python",
   "pygments_lexer": "ipython3",
   "version": "3.5.2"
  }
 },
 "nbformat": 4,
 "nbformat_minor": 1
}
