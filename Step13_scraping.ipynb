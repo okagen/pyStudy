{
 "cells": [
  {
   "cell_type": "code",
   "execution_count": 3,
   "metadata": {
    "collapsed": false
   },
   "outputs": [
    {
     "data": {
      "text/plain": [
       "('Step13_scraping_ucd.jpg', <http.client.HTTPMessage at 0x4e077b8>)"
      ]
     },
     "execution_count": 3,
     "metadata": {},
     "output_type": "execute_result"
    }
   ],
   "source": [
    "import urllib.request\n",
    "\n",
    "# HP上に貼り付けられた画像を取得\n",
    "url = 'http://www.uchida.co.jp/images2/index_ph001.jpg'\n",
    "img = 'Step13_scraping_ucd.jpg'\n",
    "urllib.request.urlretrieve(url, img)\n"
   ]
  },
  {
   "cell_type": "code",
   "execution_count": 18,
   "metadata": {
    "collapsed": false
   },
   "outputs": [
    {
     "name": "stdout",
     "output_type": "stream",
     "text": [
      "\n",
      "-- stocksPrice : \n",
      "[<td class=\"stoksPrice realTimChange\">\n",
      "<div class=\"realTimChangeMod\">\n",
      "</div>\n",
      "</td>, <td class=\"stoksPrice\">2,581</td>]\n",
      "\n",
      "-- stocksPrice[0] : \n",
      "\n",
      "\n",
      "\n",
      "\n",
      "\n",
      "-- stocksPrice[1] : \n",
      "2,581\n"
     ]
    }
   ],
   "source": [
    "import urllib.request\n",
    "from bs4 import BeautifulSoup\n",
    "\n",
    "# Yahooファイナンス上に表示されている株価を取得\n",
    "url = \"https://stocks.finance.yahoo.co.jp/stocks/detail/?code=8057.T\"\n",
    "res = urllib.request.urlopen(url)\n",
    "\n",
    "soup = BeautifulSoup(res, 'html.parser')\n",
    "stocksPrice = soup.select('.stoksPrice')\n",
    "\n",
    "# .stokPriceは、2つの要素が入ったリスト\n",
    "print(\"\\n-- stocksPrice : \")\n",
    "print(stocksPrice)\n",
    "\n",
    "print(\"\\n-- stocksPrice[0] : \")\n",
    "print(stocksPrice[0].text)\n",
    "\n",
    "# .stokPriceは、2つの要素が入ったリストなので、2つめを取得\n",
    "print(\"\\n-- stocksPrice[1] : \")\n",
    "print(stocksPrice[1].text)\n"
   ]
  },
  {
   "cell_type": "code",
   "execution_count": null,
   "metadata": {
    "collapsed": true
   },
   "outputs": [],
   "source": []
  }
 ],
 "metadata": {
  "kernelspec": {
   "display_name": "Python [conda root]",
   "language": "python",
   "name": "conda-root-py"
  },
  "language_info": {
   "codemirror_mode": {
    "name": "ipython",
    "version": 3
   },
   "file_extension": ".py",
   "mimetype": "text/x-python",
   "name": "python",
   "nbconvert_exporter": "python",
   "pygments_lexer": "ipython3",
   "version": "3.5.2"
  }
 },
 "nbformat": 4,
 "nbformat_minor": 1
}
