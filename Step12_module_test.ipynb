{
 "cells": [
  {
   "cell_type": "code",
   "execution_count": 1,
   "metadata": {
    "collapsed": false
   },
   "outputs": [
    {
     "name": "stdout",
     "output_type": "stream",
     "text": [
      "\n",
      " This message is from Step12_module.py [ptrint(__name__)] : Step12_module\n",
      "5\n",
      "-1\n",
      "5\n",
      "-1\n",
      "print(__name__) : __main__\n"
     ]
    }
   ],
   "source": [
    "#from %%% import %%% を使うと、モジュール名を省略できる。\n",
    "from Step12_module import module_add, module_sub\n",
    "ans = module_add(2,3)\n",
    "print(ans)\n",
    "\n",
    "ans = module_sub(2,3)\n",
    "print(ans)\n",
    "\n",
    "#from %%% import * を使うとモジュール内の全てのメソッドを呼び出せる。\n",
    "from Step12_module import *\n",
    "ans = module_add(2,3)\n",
    "print(ans)\n",
    "\n",
    "ans = module_sub(2,3)\n",
    "print(ans)\n",
    "\n",
    "# __name__はグローバル変数。自身がスクリプトファイルとして実行されている場合は\n",
    "# __name__ == \"__main__\" となる。\n",
    "print(\"print(__name__) : \" + __name__)"
   ]
  },
  {
   "cell_type": "code",
   "execution_count": 2,
   "metadata": {
    "collapsed": false
   },
   "outputs": [
    {
     "name": "stdout",
     "output_type": "stream",
     "text": [
      "5\n",
      "-1\n"
     ]
    }
   ],
   "source": [
    "#自作モジュールをインポート\n",
    "import Step12_module\n",
    "\n",
    "#モジュール内のメソッドを使う\n",
    "ans = Step12_module.module_add(2,3)\n",
    "print(ans)\n",
    "\n",
    "ans = Step12_module.module_sub(2,3)\n",
    "print(ans)"
   ]
  },
  {
   "cell_type": "code",
   "execution_count": 3,
   "metadata": {
    "collapsed": false,
    "scrolled": true
   },
   "outputs": [
    {
     "name": "stdout",
     "output_type": "stream",
     "text": [
      "Show the current path settings.\n",
      "\n",
      "C:\\Program Files\\Anaconda3\\python35.zip\n",
      "C:\\Program Files\\Anaconda3\\DLLs\n",
      "C:\\Program Files\\Anaconda3\\lib\n",
      "C:\\Program Files\\Anaconda3\n",
      "C:\\Program Files\\Anaconda3\\lib\\site-packages\n",
      "C:\\Program Files\\Anaconda3\\lib\\site-packages\\Sphinx-1.4.6-py3.5.egg\n",
      "C:\\Program Files\\Anaconda3\\lib\\site-packages\\win32\n",
      "C:\\Program Files\\Anaconda3\\lib\\site-packages\\win32\\lib\n",
      "C:\\Program Files\\Anaconda3\\lib\\site-packages\\Pythonwin\n",
      "C:\\Program Files\\Anaconda3\\lib\\site-packages\\setuptools-27.2.0-py3.5.egg\n",
      "C:\\Program Files\\Anaconda3\\lib\\site-packages\\IPython\\extensions\n",
      "C:\\Users\\10007434\\.ipython\n",
      "\n",
      "--- Append\n",
      "\n",
      "C:\\Program Files\\Anaconda3\\python35.zip\n",
      "C:\\Program Files\\Anaconda3\\DLLs\n",
      "C:\\Program Files\\Anaconda3\\lib\n",
      "C:\\Program Files\\Anaconda3\n",
      "C:\\Program Files\\Anaconda3\\lib\\site-packages\n",
      "C:\\Program Files\\Anaconda3\\lib\\site-packages\\Sphinx-1.4.6-py3.5.egg\n",
      "C:\\Program Files\\Anaconda3\\lib\\site-packages\\win32\n",
      "C:\\Program Files\\Anaconda3\\lib\\site-packages\\win32\\lib\n",
      "C:\\Program Files\\Anaconda3\\lib\\site-packages\\Pythonwin\n",
      "C:\\Program Files\\Anaconda3\\lib\\site-packages\\setuptools-27.2.0-py3.5.egg\n",
      "C:\\Program Files\\Anaconda3\\lib\\site-packages\\IPython\\extensions\n",
      "C:\\Users\\10007434\\.ipython\n",
      "C:\\work\\GitHub\\python\\\n"
     ]
    }
   ],
   "source": [
    "import sys\n",
    "\n",
    "# 自作モジュールファイルを保存しているパスを、環境パスに設定する。\n",
    "# anacondaでは不要だったが、一応記録。\n",
    "# 環境パスを表示\n",
    "print (\"Show the current path settings.\")\n",
    "for p in sys.path:\n",
    "    print(p)\n",
    "\n",
    "# 環境パス内に有れば削除\n",
    "if \"C:\\\\work\\\\GitHub\\\\python\\\\\" in sys.path :\n",
    "    print (\"\\n--- Remove\")\n",
    "    sys.path.remove(\"C:\\\\work\\\\GitHub\\\\python\\\\\") \n",
    "\n",
    "    # 環境パスを表示\n",
    "    for p in sys.path:\n",
    "        print(p)\n",
    "    \n",
    "# 環境パス内に無ければ追加\n",
    "if \"C:\\\\work\\\\GitHub\\\\python\\\\\" not in sys.path :\n",
    "    print (\"\\n--- Append\")\n",
    "    sys.path.append(\"C:\\\\work\\\\GitHub\\\\python\\\\\")\n",
    "\n",
    "    # 環境パスを表示\n",
    "    for p in sys.path:\n",
    "        print(p)\n"
   ]
  },
  {
   "cell_type": "code",
   "execution_count": null,
   "metadata": {
    "collapsed": true
   },
   "outputs": [],
   "source": []
  },
  {
   "cell_type": "code",
   "execution_count": null,
   "metadata": {
    "collapsed": true
   },
   "outputs": [],
   "source": []
  }
 ],
 "metadata": {
  "anaconda-cloud": {},
  "kernelspec": {
   "display_name": "Python [conda root]",
   "language": "python",
   "name": "conda-root-py"
  },
  "language_info": {
   "codemirror_mode": {
    "name": "ipython",
    "version": 3
   },
   "file_extension": ".py",
   "mimetype": "text/x-python",
   "name": "python",
   "nbconvert_exporter": "python",
   "pygments_lexer": "ipython3",
   "version": "3.5.2"
  }
 },
 "nbformat": 4,
 "nbformat_minor": 1
}
