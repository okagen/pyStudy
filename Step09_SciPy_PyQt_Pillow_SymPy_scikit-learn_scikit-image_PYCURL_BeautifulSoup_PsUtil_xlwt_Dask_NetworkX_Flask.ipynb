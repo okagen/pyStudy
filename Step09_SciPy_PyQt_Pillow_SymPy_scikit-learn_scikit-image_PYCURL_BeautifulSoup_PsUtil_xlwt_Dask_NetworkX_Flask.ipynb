{
 "cells": [
  {
   "cell_type": "code",
   "execution_count": 4,
   "metadata": {
    "collapsed": false
   },
   "outputs": [
    {
     "name": "stdout",
     "output_type": "stream",
     "text": [
      "1\n"
     ]
    }
   ],
   "source": [
    "# SciPy : 数値解析ライブラリ\n",
    "# NumPy、matplotlib、pandaを統合し、数値解析機能を追加\n",
    "\n",
    "# PyQt : GUIライブラリ\n",
    "# Riverbank Computingが開発。マルチプラットフォーム対応GUI。ライセンスは商用とGPLの2つが有り、ソースコードを公開しない場合注意が必要。\n",
    "\n",
    "# Pillow : 2次元画像のライブラリ\n",
    "\n",
    "# Flask : 軽量なWebアプリフレームワーク\n",
    "\n",
    "# SymPy : 代数計算ライブラリ\n",
    "# 1/3と2/3の足し算\n",
    "from sympy import *\n",
    "a = Rational(1,3)\n",
    "b = Rational(2,3)\n",
    "print(a+b)\n",
    "\n",
    "# scikit-learn : 機械学習のライブラリ\n",
    "\n",
    "# scikit-image : 高度な画像処理のライブラリ\n",
    "\n",
    "# PYCURL : データ転送のライブラリ\n",
    "\n",
    "# Beautiful Soup : スクレイピングのライブラリ\n",
    "\n",
    "# PsUtil : システム情報取得のライブラリ\n",
    "\n",
    "# xlwt : Excelファイルを操作するライブラリ\n",
    "\n",
    "# Dask : 並列コンピューティングのライブラリ\n",
    "# \n",
    "\n",
    "# NetworkX : ネットワーク構造を分析するライブラリ\n",
    "# グラフ理論のアルゴリズムを提供\n"
   ]
  },
  {
   "cell_type": "code",
   "execution_count": null,
   "metadata": {
    "collapsed": true
   },
   "outputs": [],
   "source": []
  }
 ],
 "metadata": {
  "kernelspec": {
   "display_name": "Python [conda root]",
   "language": "python",
   "name": "conda-root-py"
  },
  "language_info": {
   "codemirror_mode": {
    "name": "ipython",
    "version": 3
   },
   "file_extension": ".py",
   "mimetype": "text/x-python",
   "name": "python",
   "nbconvert_exporter": "python",
   "pygments_lexer": "ipython3",
   "version": "3.5.2"
  }
 },
 "nbformat": 4,
 "nbformat_minor": 1
}
